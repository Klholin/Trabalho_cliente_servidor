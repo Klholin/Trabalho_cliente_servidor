{
 "cells": [
  {
   "cell_type": "code",
   "execution_count": null,
   "id": "fcbd5326-dfb6-4b26-aa97-c4554610f6cd",
   "metadata": {},
   "outputs": [],
   "source": [
    "class Animal :\n",
    "    @property\n",
    "    def nome(self):\n",
    "        return self._nome\n",
    "\n",
    "    @nome.setter\n",
    "    def nome(self,nome):\n",
    "        self._nome = nome\n",
    "        \n",
    "    def __init__(self,nome):\n",
    "        self._nome = nome"
   ]
  },
  {
   "cell_type": "code",
   "execution_count": null,
   "id": "0874684f-34ae-4b07-972b-3d9b698d7add",
   "metadata": {},
   "outputs": [],
   "source": [
    "animal = Animal('Tigre')\n",
    "print('Nome do animal:',animal.)"
   ]
  }
 ],
 "metadata": {
  "kernelspec": {
   "display_name": "Python (CMD Version)",
   "language": "python",
   "name": "pythoncmd"
  },
  "language_info": {
   "codemirror_mode": {
    "name": "ipython",
    "version": 3
   },
   "file_extension": ".py",
   "mimetype": "text/x-python",
   "name": "python",
   "nbconvert_exporter": "python",
   "pygments_lexer": "ipython3",
   "version": "3.9.13"
  }
 },
 "nbformat": 4,
 "nbformat_minor": 5
}
